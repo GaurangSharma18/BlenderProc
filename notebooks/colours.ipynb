{
 "cells": [
  {
   "cell_type": "code",
   "execution_count": 1,
   "id": "73c4ff0d",
   "metadata": {},
   "outputs": [],
   "source": [
    "#import cv2  # Not actually necessary if you just want to create an image.\n",
    "import numpy as np\n",
    "height = 64\n",
    "width = 64\n",
    "#blank_image = np.zeros((height,width,3), np.uint8)"
   ]
  },
  {
   "cell_type": "code",
   "execution_count": 2,
   "id": "290c8df3",
   "metadata": {},
   "outputs": [],
   "source": [
    "import random\n",
    "import matplotlib.pyplot as plt\n",
    "import matplotlib\n",
    "for i in range(10000):\n",
    "    r = random.randint(0,240)\n",
    "    g = random.randint(0,240)\n",
    "    b = random.randint(0,240)\n",
    "    \n",
    "    arr = np.full((height, width, 3), [r, g, b], dtype=('uint8'))\n",
    "    \n",
    "    #print('A Random color is :',blank_image)\n",
    "    #plt.figure()\n",
    "    #plt.imshow(arr)\n",
    "\n",
    "    matplotlib.image.imsave('../colours/Colours'+str(i)+'.png', arr)"
   ]
  },
  {
   "cell_type": "code",
   "execution_count": null,
   "id": "6e83f07e",
   "metadata": {},
   "outputs": [],
   "source": []
  }
 ],
 "metadata": {
  "kernelspec": {
   "display_name": "Python 3 (ipykernel)",
   "language": "python",
   "name": "python3"
  },
  "language_info": {
   "codemirror_mode": {
    "name": "ipython",
    "version": 3
   },
   "file_extension": ".py",
   "mimetype": "text/x-python",
   "name": "python",
   "nbconvert_exporter": "python",
   "pygments_lexer": "ipython3",
   "version": "3.9.13"
  }
 },
 "nbformat": 4,
 "nbformat_minor": 5
}
