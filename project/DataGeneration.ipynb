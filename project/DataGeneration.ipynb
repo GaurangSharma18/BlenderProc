{
 "cells": [
  {
   "cell_type": "code",
   "execution_count": 1,
   "id": "b3617825",
   "metadata": {},
   "outputs": [
    {
     "name": "stdout",
     "output_type": "stream",
     "text": [
      "Warning: Changed install path from /home_local\\gaura... to C:\\Users\\gaura..., there is no /home_local/ on this machine.\n",
      "Using blender in C:\\Users\\gaura\\blender\\blender-3.3.1-windows-x64\n"
     ]
    },
    {
     "name": "stderr",
     "output_type": "stream",
     "text": [
      "Traceback (most recent call last):\n",
      "  File \"C:\\Users\\gaura\\anaconda3\\Scripts\\blenderproc-script.py\", line 33, in <module>\n",
      "    sys.exit(load_entry_point('blenderproc', 'console_scripts', 'blenderproc')())\n",
      "  File \"c:\\users\\gaura\\blenderproc\\blenderproc\\command_line.py\", line 165, in cli\n",
      "    SetupUtility.check_if_setup_utilities_are_at_the_top(path_src_run)\n",
      "  File \"c:\\users\\gaura\\blenderproc\\blenderproc\\python\\utility\\SetupUtility.py\", line 413, in check_if_setup_utilities_are_at_the_top\n",
      "    raise RuntimeError(f\"The given run script does not exist: {path_to_run_file}\")\n",
      "RuntimeError: The given run script does not exist: examples/thesis/project/main.py\n"
     ]
    }
   ],
   "source": [
    "import blenderproc as bproc\n",
    "import argparse\n",
    "import numpy as np \n"
   ]
  },
  {
   "cell_type": "code",
   "execution_count": null,
   "id": "7cc03775",
   "metadata": {},
   "outputs": [],
   "source": [
    "\n",
    "parser = argparse.ArgumentParser()\n",
    "parser.add_argument('scene', help=\"Path to the scene.obj file, should be examples/resources/scene.obj\")\n",
    "parser.add_argument('output_dir', help=\"Path to where the final files, will be saved, could be examples/basics/basic/output\")\n",
    "args = parser.parse_args()\n",
    "\n",
    "bproc.init()\n",
    "\n",
    "# load the objects into the scene\n",
    "objs = bproc.loader.load_obj(args.scene)\n",
    "\n"
   ]
  },
  {
   "cell_type": "code",
   "execution_count": null,
   "id": "616e3dc4",
   "metadata": {},
   "outputs": [],
   "source": [
    "# define a light and set its location and energy level\n",
    "light = bproc.types.Light()\n",
    "light.set_type(\"POINT\")\n",
    "light.set_location([5, -5, 5])\n",
    "light.set_energy(1000)\n",
    "\n"
   ]
  },
  {
   "cell_type": "code",
   "execution_count": null,
   "id": "3c479771",
   "metadata": {},
   "outputs": [],
   "source": [
    "# define the camera resolution\n",
    "bproc.camera.set_resolution(512, 512)\n",
    "\n",
    "# Find point of interest, all cam poses should look towards it\n",
    "poi = bproc.object.compute_poi(objs)\n",
    "# Sample five camera poses\n",
    "for i in range(5):\n",
    "    # Sample random camera location above objects\n",
    "    location = np.random.uniform([-400, -200, 500], [400, 200, 500])\n",
    "    # Compute rotation based on vector going from location towards poi\n",
    "    rotation_matrix = bproc.camera.rotation_from_forward_vec(poi - location, inplane_rot=np.random.uniform(-0.7854, 0.7854))\n",
    "    # Add homog cam pose based on location an rotation\n",
    "    cam2world_matrix = bproc.math.build_transformation_mat(location, rotation_matrix)\n",
    "    bproc.camera.add_camera_pose(cam2world_matrix)\n"
   ]
  },
  {
   "cell_type": "code",
   "execution_count": null,
   "id": "5e10f42a",
   "metadata": {},
   "outputs": [],
   "source": [
    "# activate normal and depth rendering\n",
    "bproc.renderer.enable_normals_output()\n",
    "bproc.renderer.enable_depth_output(activate_antialiasing=False)\n"
   ]
  },
  {
   "cell_type": "code",
   "execution_count": null,
   "id": "91cba9d0",
   "metadata": {},
   "outputs": [],
   "source": [
    "\n",
    "# render the whole pipeline\n",
    "data = bproc.renderer.render()\n",
    "\n",
    "# write the data to a .hdf5 container\n",
    "bproc.writer.write_hdf5(args.output_dir, data)"
   ]
  },
  {
   "cell_type": "code",
   "execution_count": null,
   "id": "3706f465",
   "metadata": {},
   "outputs": [],
   "source": []
  }
 ],
 "metadata": {
  "kernelspec": {
   "display_name": "Python 3 (ipykernel)",
   "language": "python",
   "name": "python3"
  },
  "language_info": {
   "codemirror_mode": {
    "name": "ipython",
    "version": 3
   },
   "file_extension": ".py",
   "mimetype": "text/x-python",
   "name": "python",
   "nbconvert_exporter": "python",
   "pygments_lexer": "ipython3",
   "version": "3.9.13"
  }
 },
 "nbformat": 4,
 "nbformat_minor": 5
}
